{
 "cells": [
  {
   "cell_type": "code",
   "execution_count": 46,
   "id": "897a6950-bc35-4449-b9b3-cc262d8e4c4e",
   "metadata": {},
   "outputs": [
    {
     "data": {
      "application/vnd.jupyter.widget-view+json": {
       "model_id": "d0e9e6e8f3d04a7f9b74e29b48f45681",
       "version_major": 2,
       "version_minor": 0
      },
      "text/plain": [
       "Map(center=[-6.9147, 107.6098], controls=(ZoomControl(options=['position', 'zoom_in_text', 'zoom_in_title', 'z…"
      ]
     },
     "execution_count": 46,
     "metadata": {},
     "output_type": "execute_result"
    }
   ],
   "source": [
    "import pandas as pd\n",
    "import json\n",
    "import geopandas as gpd\n",
    "import ipywidgets as widgets\n",
    "from ipyleaflet import Map, GeoJSON, Popup, basemaps, basemap_to_tiles\n",
    "\n",
    "# Create a map\n",
    "start_location = (-6.9147, 107.6098)\n",
    "m = Map(center=start_location, \n",
    "        basemap=basemap_to_tiles(basemaps.Esri.WorldImagery),\n",
    "        zoom=8)\n",
    "\n",
    "# Load the .geojson file into a GeoDataFrame \n",
    "gdf = gpd.read_file(\"./data/gempa.geojson\") \n",
    "gdf['time'] = gdf['time'].apply(str)\n",
    "\n",
    "# Ubah semua kolom bertipe datetime (Timestamp) menjadi string ISO format\n",
    "for col in gdf.select_dtypes(include=['datetime64[ns]', 'datetime64[ns, UTC]']).columns:\n",
    "    gdf[col] = gdf[col].dt.strftime('%Y-%m-%d %H:%M:%S')\n",
    "\n",
    "# make json from geodataframe so we can use GeoJSON from ipyleaflet\n",
    "geojson_data_initial = json.loads(gdf.to_json())\n",
    "\n",
    "#fungsi pop\n",
    "def create_popup(lat,lon,properties):\n",
    "    target_info = ['mag','magType','latitude','longitude','depth','place','time']\n",
    "    \n",
    "    string_info = \"\"\n",
    "    for key in target_info:\n",
    "        string_info += f\"<div>{key} = {properties[key]}</div>\"\n",
    "    string_info = widgets.HTML(string_info)\n",
    "    popup_content = widgets.VBox([string_info])\n",
    "    return Popup(\n",
    "        location=(lat,lon),\n",
    "        child= popup_content,\n",
    "        close_button=True,\n",
    "        auto_close=False,\n",
    "        close_on_escape_key=False,\n",
    "        keep_in_view=True,\n",
    "        min_width = 300\n",
    "    )\n",
    "\n",
    "\n",
    "#definisikan\n",
    "def gdf_onclick_handler(event=None, feature=None, id=None, properties=None,**kwargs):\n",
    "    lat = properties['latitude']\n",
    "    lon = properties['longitude']\n",
    "    popup = create_popup(lat,lon,properties)\n",
    "    m.add(popup)\n",
    "\n",
    "# Add GeoJSON layer to the map\n",
    "geojson_layer = GeoJSON(\n",
    "    data=geojson_data_initial,\n",
    "    point_style={'radius': 5, 'color': 'blue', 'fillColor': 'blue', 'fillOpacity': 0.8},\n",
    "    hover_style={'fillColor': 'white', 'color': 'black', 'fillOpacity': 1}\n",
    "    )\n",
    "\n",
    "# add click handler to create pop up\n",
    "geojson_layer.on_click(gdf_onclick_handler)\n",
    "\n",
    "# add layer\n",
    "m.add_layer(geojson_layer)\n",
    "\n",
    "m"
   ]
  },
  {
   "cell_type": "code",
   "execution_count": null,
   "id": "ae337ce7-604a-4f30-9c09-b3909c58e999",
   "metadata": {},
   "outputs": [],
   "source": []
  },
  {
   "cell_type": "code",
   "execution_count": null,
   "id": "c8252a26-b329-40ae-b760-01fa138c370f",
   "metadata": {},
   "outputs": [],
   "source": []
  }
 ],
 "metadata": {
  "kernelspec": {
   "display_name": "Python 3 (ipykernel)",
   "language": "python",
   "name": "python3"
  },
  "language_info": {
   "codemirror_mode": {
    "name": "ipython",
    "version": 3
   },
   "file_extension": ".py",
   "mimetype": "text/x-python",
   "name": "python",
   "nbconvert_exporter": "python",
   "pygments_lexer": "ipython3",
   "version": "3.13.2"
  }
 },
 "nbformat": 4,
 "nbformat_minor": 5
}
